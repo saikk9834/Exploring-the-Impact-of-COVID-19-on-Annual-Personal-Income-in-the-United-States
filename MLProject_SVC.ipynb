{
  "nbformat": 4,
  "nbformat_minor": 0,
  "metadata": {
    "colab": {
      "provenance": []
    },
    "kernelspec": {
      "name": "python3",
      "display_name": "Python 3"
    },
    "language_info": {
      "name": "python"
    }
  },
  "cells": [
    {
      "cell_type": "code",
      "execution_count": null,
      "metadata": {
        "id": "s5O96SLxSprT"
      },
      "outputs": [],
      "source": [
        "import numpy as np\n",
        "import matplotlib.pyplot as plt\n",
        "import pandas as pd"
      ]
    },
    {
      "cell_type": "code",
      "source": [
        "data = pd.read_excel('Data2021_3.xlsx')\n",
        "data.head()"
      ],
      "metadata": {
        "colab": {
          "base_uri": "https://localhost:8080/",
          "height": 243
        },
        "id": "Ew_a7ZSpTRVJ",
        "outputId": "8ba57c87-05cd-4942-d839-56b3e6e4e7b1"
      },
      "execution_count": null,
      "outputs": [
        {
          "output_type": "execute_result",
          "data": {
            "text/html": [
              "<div>\n",
              "<style scoped>\n",
              "    .dataframe tbody tr th:only-of-type {\n",
              "        vertical-align: middle;\n",
              "    }\n",
              "\n",
              "    .dataframe tbody tr th {\n",
              "        vertical-align: top;\n",
              "    }\n",
              "\n",
              "    .dataframe thead th {\n",
              "        text-align: right;\n",
              "    }\n",
              "</style>\n",
              "<table border=\"1\" class=\"dataframe\">\n",
              "  <thead>\n",
              "    <tr style=\"text-align: right;\">\n",
              "      <th></th>\n",
              "      <th>Unnamed: 0</th>\n",
              "      <th>A_AGE</th>\n",
              "      <th>A_HGA</th>\n",
              "      <th>A_MARITL</th>\n",
              "      <th>A_FAMREL</th>\n",
              "      <th>A_SEX</th>\n",
              "      <th>P_STAT</th>\n",
              "      <th>PECERT1</th>\n",
              "      <th>PECERT2</th>\n",
              "      <th>PECERT3</th>\n",
              "      <th>A_HRSPAY</th>\n",
              "      <th>A_HRLYWK</th>\n",
              "      <th>A_WKSTAT</th>\n",
              "      <th>CLWK</th>\n",
              "      <th>EARNER</th>\n",
              "      <th>PHMEMPRS</th>\n",
              "      <th>ERN_SRCE</th>\n",
              "      <th>CAP_VAL</th>\n",
              "      <th>WSAL_YN</th>\n",
              "      <th>FILESTAT</th>\n",
              "      <th>TAX_INC</th>\n",
              "      <th>A_CLSWKR</th>\n",
              "      <th>A_FAMREL.1</th>\n",
              "      <th>PRDTRACE</th>\n",
              "      <th>A_SEX.1</th>\n",
              "      <th>CAP_VAL.1</th>\n",
              "      <th>A_USLHRS</th>\n",
              "      <th>PRCITSHP</th>\n",
              "      <th>PTOT_R</th>\n",
              "    </tr>\n",
              "  </thead>\n",
              "  <tbody>\n",
              "    <tr>\n",
              "      <th>0</th>\n",
              "      <td>0</td>\n",
              "      <td>56</td>\n",
              "      <td>39</td>\n",
              "      <td>1</td>\n",
              "      <td>1</td>\n",
              "      <td>2</td>\n",
              "      <td>1</td>\n",
              "      <td>2</td>\n",
              "      <td>-1</td>\n",
              "      <td>-1</td>\n",
              "      <td>-1</td>\n",
              "      <td>0</td>\n",
              "      <td>1</td>\n",
              "      <td>5</td>\n",
              "      <td>2</td>\n",
              "      <td>0</td>\n",
              "      <td>0</td>\n",
              "      <td>0</td>\n",
              "      <td>2</td>\n",
              "      <td>1</td>\n",
              "      <td>0</td>\n",
              "      <td>0</td>\n",
              "      <td>1</td>\n",
              "      <td>1</td>\n",
              "      <td>2</td>\n",
              "      <td>0</td>\n",
              "      <td>-1</td>\n",
              "      <td>1</td>\n",
              "      <td>1</td>\n",
              "    </tr>\n",
              "    <tr>\n",
              "      <th>1</th>\n",
              "      <td>1</td>\n",
              "      <td>57</td>\n",
              "      <td>39</td>\n",
              "      <td>1</td>\n",
              "      <td>2</td>\n",
              "      <td>1</td>\n",
              "      <td>1</td>\n",
              "      <td>2</td>\n",
              "      <td>-1</td>\n",
              "      <td>-1</td>\n",
              "      <td>-1</td>\n",
              "      <td>0</td>\n",
              "      <td>6</td>\n",
              "      <td>1</td>\n",
              "      <td>1</td>\n",
              "      <td>1</td>\n",
              "      <td>1</td>\n",
              "      <td>0</td>\n",
              "      <td>1</td>\n",
              "      <td>1</td>\n",
              "      <td>0</td>\n",
              "      <td>1</td>\n",
              "      <td>2</td>\n",
              "      <td>1</td>\n",
              "      <td>1</td>\n",
              "      <td>0</td>\n",
              "      <td>-1</td>\n",
              "      <td>1</td>\n",
              "      <td>6</td>\n",
              "    </tr>\n",
              "    <tr>\n",
              "      <th>2</th>\n",
              "      <td>2</td>\n",
              "      <td>78</td>\n",
              "      <td>39</td>\n",
              "      <td>4</td>\n",
              "      <td>4</td>\n",
              "      <td>2</td>\n",
              "      <td>1</td>\n",
              "      <td>2</td>\n",
              "      <td>-1</td>\n",
              "      <td>-1</td>\n",
              "      <td>-1</td>\n",
              "      <td>0</td>\n",
              "      <td>1</td>\n",
              "      <td>5</td>\n",
              "      <td>2</td>\n",
              "      <td>0</td>\n",
              "      <td>0</td>\n",
              "      <td>0</td>\n",
              "      <td>2</td>\n",
              "      <td>5</td>\n",
              "      <td>0</td>\n",
              "      <td>0</td>\n",
              "      <td>4</td>\n",
              "      <td>1</td>\n",
              "      <td>2</td>\n",
              "      <td>0</td>\n",
              "      <td>-1</td>\n",
              "      <td>1</td>\n",
              "      <td>6</td>\n",
              "    </tr>\n",
              "    <tr>\n",
              "      <th>3</th>\n",
              "      <td>3</td>\n",
              "      <td>65</td>\n",
              "      <td>43</td>\n",
              "      <td>1</td>\n",
              "      <td>1</td>\n",
              "      <td>2</td>\n",
              "      <td>1</td>\n",
              "      <td>2</td>\n",
              "      <td>-1</td>\n",
              "      <td>-1</td>\n",
              "      <td>-1</td>\n",
              "      <td>2</td>\n",
              "      <td>2</td>\n",
              "      <td>1</td>\n",
              "      <td>1</td>\n",
              "      <td>1</td>\n",
              "      <td>1</td>\n",
              "      <td>0</td>\n",
              "      <td>1</td>\n",
              "      <td>3</td>\n",
              "      <td>53419</td>\n",
              "      <td>1</td>\n",
              "      <td>1</td>\n",
              "      <td>1</td>\n",
              "      <td>2</td>\n",
              "      <td>0</td>\n",
              "      <td>40</td>\n",
              "      <td>1</td>\n",
              "      <td>19</td>\n",
              "    </tr>\n",
              "    <tr>\n",
              "      <th>4</th>\n",
              "      <td>4</td>\n",
              "      <td>66</td>\n",
              "      <td>39</td>\n",
              "      <td>1</td>\n",
              "      <td>2</td>\n",
              "      <td>1</td>\n",
              "      <td>1</td>\n",
              "      <td>1</td>\n",
              "      <td>1</td>\n",
              "      <td>1</td>\n",
              "      <td>-1</td>\n",
              "      <td>2</td>\n",
              "      <td>2</td>\n",
              "      <td>1</td>\n",
              "      <td>1</td>\n",
              "      <td>1</td>\n",
              "      <td>1</td>\n",
              "      <td>0</td>\n",
              "      <td>1</td>\n",
              "      <td>3</td>\n",
              "      <td>0</td>\n",
              "      <td>1</td>\n",
              "      <td>2</td>\n",
              "      <td>1</td>\n",
              "      <td>1</td>\n",
              "      <td>0</td>\n",
              "      <td>40</td>\n",
              "      <td>1</td>\n",
              "      <td>14</td>\n",
              "    </tr>\n",
              "  </tbody>\n",
              "</table>\n",
              "</div>"
            ],
            "text/plain": [
              "   Unnamed: 0  A_AGE  A_HGA  A_MARITL  ...  CAP_VAL.1  A_USLHRS  PRCITSHP  PTOT_R\n",
              "0           0     56     39         1  ...          0        -1         1       1\n",
              "1           1     57     39         1  ...          0        -1         1       6\n",
              "2           2     78     39         4  ...          0        -1         1       6\n",
              "3           3     65     43         1  ...          0        40         1      19\n",
              "4           4     66     39         1  ...          0        40         1      14\n",
              "\n",
              "[5 rows x 29 columns]"
            ]
          },
          "metadata": {},
          "execution_count": 20
        }
      ]
    },
    {
      "cell_type": "code",
      "source": [
        "data1 = data.copy()"
      ],
      "metadata": {
        "id": "i_elH6qLTb-F"
      },
      "execution_count": null,
      "outputs": []
    },
    {
      "cell_type": "code",
      "source": [
        "data1['PTOT_R'] = np.where(np.logical_and(data1['PTOT_R'] >=0,data1['PTOT_R'] <8) , 1, data1['PTOT_R'])\n",
        "data1['PTOT_R'] = np.where(np.logical_and(data1['PTOT_R'] >=8,data1['PTOT_R'] <33) , 2, data1['PTOT_R'])\n",
        "data1['PTOT_R'] = np.where(data1['PTOT_R'] >=33, 3, data1['PTOT_R'])"
      ],
      "metadata": {
        "id": "RupqoL2TTeQz"
      },
      "execution_count": null,
      "outputs": []
    },
    {
      "cell_type": "code",
      "source": [
        "data1['A_AGE'] = np.where(data1['A_AGE'] < 18 , 1, data1['A_AGE'])\n",
        "data1['A_AGE'] = np.where(np.logical_and(data1['A_AGE'] >= 18,data1['A_AGE']<30),2,data1['A_AGE'])\n",
        "data1['A_AGE'] = np.where(np.logical_and(data1['A_AGE'] >= 30,data1['A_AGE']<50),3,data1['A_AGE'])\n",
        "data1['A_AGE'] = np.where(data1['A_AGE'] >= 50,4,data1['A_AGE'])"
      ],
      "metadata": {
        "id": "aEYtIAGXTgoI"
      },
      "execution_count": null,
      "outputs": []
    },
    {
      "cell_type": "code",
      "source": [
        "data1['A_HGA'] = np.where(data1['A_HGA'] > 0, data1['A_HGA']-30, data1['A_HGA'])"
      ],
      "metadata": {
        "id": "xu1LZwvaTiu4"
      },
      "execution_count": null,
      "outputs": []
    },
    {
      "cell_type": "code",
      "source": [
        "data1['A_HRSPAY'] = np.where(data1['A_HRSPAY'] > 0 ,data1['A_HRSPAY']/100 , data1['A_HRSPAY'])\n",
        "data1['A_HRSPAY'] = np.where(data1['A_HRSPAY'] < 0 ,0 , data1['A_HRSPAY'])"
      ],
      "metadata": {
        "id": "6mco30eiTkqB"
      },
      "execution_count": null,
      "outputs": []
    },
    {
      "cell_type": "code",
      "source": [
        "data1['PECERT1'] = np.where(data1['PECERT1'] < 0 ,0 , data1['PECERT1'])\n",
        "data1['PECERT2'] = np.where(data1['PECERT2'] < 0 ,0 , data1['PECERT2'])\n",
        "data1['PECERT3'] = np.where(data1['PECERT3'] < 0 ,0 , data1['PECERT3'])"
      ],
      "metadata": {
        "id": "fuoFBIuWTmmk"
      },
      "execution_count": null,
      "outputs": []
    },
    {
      "cell_type": "code",
      "source": [
        "data1['A_USLHRS'] = np.where(data1['A_USLHRS'] == -4 , 20 , data1['A_USLHRS'])\n",
        "data1['A_USLHRS'] = np.where(data1['A_USLHRS'] == -1 , 0 , data1['A_USLHRS'])"
      ],
      "metadata": {
        "id": "Esf1C5IfTokT"
      },
      "execution_count": null,
      "outputs": []
    },
    {
      "cell_type": "code",
      "source": [
        "data1 = data1.drop('Unnamed: 0',axis=1)"
      ],
      "metadata": {
        "id": "3xCdFFXsTqqt"
      },
      "execution_count": null,
      "outputs": []
    },
    {
      "cell_type": "code",
      "source": [
        "X = data1.loc[:, data1.columns != 'PTOT_R']\n",
        "y = data1.loc[:, data1.columns == 'PTOT_R']\n",
        "\n",
        "X_train, X_test, y_train, y_test = train_test_split(X, y, test_size=0.20, random_state=0)\n",
        "columns = X_train.columns\n",
        "\n",
        "from sklearn.feature_selection import RFE\n",
        "from sklearn.naive_bayes import MultinomialNB\n",
        "\n",
        "logreg = SVC(kernel='poly', degree=3, C=1)\n",
        "rfe = RFE(logreg, n_features_to_select=10)\n",
        "rfe = rfe.fit(X_train, y_train.values.ravel())\n",
        "print(rfe.support_)\n",
        "print(rfe.ranking_)"
      ],
      "metadata": {
        "id": "L5OlII0507nJ"
      },
      "execution_count": null,
      "outputs": []
    },
    {
      "cell_type": "code",
      "source": [
        "from sklearn.model_selection import train_test_split\n",
        "\n",
        "X = data1.loc[:, data1.columns != 'PTOT_R']\n",
        "y = data1.loc[:, data1.columns == 'PTOT_R']\n",
        "\n",
        "cols = ['A_AGE', 'A_HGA', 'A_SEX', 'P_STAT', 'PECERT1', 'PECERT3', 'A_HRLYWK', 'A_WKSTAT', 'CLWK', 'EARNER', 'PHMEMPRS', 'ERN_SRCE', 'WSAL_YN', 'A_FAMREL.1', 'A_SEX.1']\n",
        "X = X[cols]\n",
        "\n",
        "X_train, X_test, y_train, y_test = train_test_split(X, y, test_size=0.3, random_state=0)\n",
        "columns = X_train.columns"
      ],
      "metadata": {
        "id": "D6QGBr-0TsaT"
      },
      "execution_count": null,
      "outputs": []
    },
    {
      "cell_type": "code",
      "source": [
        "from sklearn.svm import SVC\n",
        "poly = SVC(kernel='poly', degree=3, C=1).fit(X_train, y_train)\n",
        "#rbf = SVC(kernel='rbf', gamma=0.5, C=0.1).fit(X_train, y_train)"
      ],
      "metadata": {
        "colab": {
          "base_uri": "https://localhost:8080/"
        },
        "id": "YtD64Sxiagn8",
        "outputId": "4343f704-da9d-4360-bd02-23370aa58aed"
      },
      "execution_count": null,
      "outputs": [
        {
          "output_type": "stream",
          "name": "stderr",
          "text": [
            "/usr/local/lib/python3.7/dist-packages/sklearn/utils/validation.py:985: DataConversionWarning: A column-vector y was passed when a 1d array was expected. Please change the shape of y to (n_samples, ), for example using ravel().\n",
            "  y = column_or_1d(y, warn=True)\n"
          ]
        }
      ]
    },
    {
      "cell_type": "code",
      "source": [
        "from sklearn.metrics import accuracy_score\n",
        "from sklearn.metrics import f1_score\n",
        "poly_pred = poly.predict(X_test)\n",
        "#rbf_pred = rbf.predict(X_test)\n",
        "\n",
        "poly_accuracy = accuracy_score(y_test, poly_pred)\n",
        "poly_f1 = f1_score(y_test, poly_pred, average='weighted')\n",
        "print('Accuracy (Polynomial Kernel): ', \"%.2f\" % (poly_accuracy*100))\n",
        "print('F1 (Polynomial Kernel): ', \"%.2f\" % (poly_f1*100))\n"
      ],
      "metadata": {
        "colab": {
          "base_uri": "https://localhost:8080/"
        },
        "id": "sBgYA9S8Twxy",
        "outputId": "3a8a8dc2-ab5f-4d60-92ae-c4a3b826f4aa"
      },
      "execution_count": null,
      "outputs": [
        {
          "output_type": "stream",
          "name": "stdout",
          "text": [
            "Accuracy (Polynomial Kernel):  75.59\n",
            "F1 (Polynomial Kernel):  74.80\n"
          ]
        }
      ]
    },
    {
      "cell_type": "code",
      "source": [
        "from sklearn.metrics import classification_report, confusion_matrix, accuracy_score\n",
        "result1 = classification_report(y_test, poly_pred)\n",
        "print('Classification Report:',)\n",
        "print (result1)"
      ],
      "metadata": {
        "colab": {
          "base_uri": "https://localhost:8080/"
        },
        "id": "yWbmGFqpG6Xc",
        "outputId": "7110fc1c-1251-4c55-99b8-7ce5d908831f"
      },
      "execution_count": null,
      "outputs": [
        {
          "output_type": "stream",
          "name": "stdout",
          "text": [
            "Classification Report:\n",
            "              precision    recall  f1-score   support\n",
            "\n",
            "           1       0.89      0.82      0.86     11356\n",
            "           2       0.65      0.83      0.73      9236\n",
            "           3       0.67      0.33      0.44      3408\n",
            "\n",
            "    accuracy                           0.76     24000\n",
            "   macro avg       0.74      0.66      0.68     24000\n",
            "weighted avg       0.77      0.76      0.75     24000\n",
            "\n"
          ]
        }
      ]
    }
  ]
}